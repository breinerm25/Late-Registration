{
  "nbformat": 4,
  "nbformat_minor": 0,
  "metadata": {
    "colab": {
      "provenance": [],
      "authorship_tag": "ABX9TyN0rDyKcsEOoYzZJj3qeQge",
      "include_colab_link": true
    },
    "kernelspec": {
      "name": "python3",
      "display_name": "Python 3"
    },
    "language_info": {
      "name": "python"
    }
  },
  "cells": [
    {
      "cell_type": "markdown",
      "metadata": {
        "id": "view-in-github",
        "colab_type": "text"
      },
      "source": [
        "<a href=\"https://colab.research.google.com/github/breinerm25/Late-Registration/blob/main/Codigo/LateRegistration.ipynb\" target=\"_parent\"><img src=\"https://colab.research.google.com/assets/colab-badge.svg\" alt=\"Open In Colab\"/></a>"
      ]
    },
    {
      "cell_type": "code",
      "execution_count": null,
      "metadata": {
        "id": "uyM0R3mQWG1c"
      },
      "outputs": [],
      "source": [
        "import pandas as pd\n",
        "import numpy as np\n",
        "from google.colab import files"
      ]
    },
    {
      "cell_type": "markdown",
      "source": [
        "### **Identificador de Consumo por Cargas**\n",
        "\n",
        "\n"
      ],
      "metadata": {
        "id": "lMjnRusIgMHe"
      }
    },
    {
      "cell_type": "code",
      "source": [
        "\n",
        "# Permite al usuario seleccionar un archivo local\n",
        "dataset = files.upload()\n",
        "\n",
        "# Obtiene el nombre del archivo cargado\n",
        "nombre_ds = list(dataset.keys())[0]\n",
        "\n",
        "# Muestra el nombre del archivo cargado\n",
        "print(\"Archivo cargado:\", nombre_ds)"
      ],
      "metadata": {
        "id": "hCCScaEGV6CR"
      },
      "execution_count": null,
      "outputs": []
    },
    {
      "cell_type": "code",
      "source": [
        "df= pd.read_csv(\"consumo_casa.csv\")\n"
      ],
      "metadata": {
        "id": "LYEiV0RSNZbO"
      },
      "execution_count": null,
      "outputs": []
    },
    {
      "cell_type": "code",
      "source": [
        "##df = pd.read_csv(nombre_ds,  sep=\",\")\n",
        "print(df.describe())\n",
        "df"
      ],
      "metadata": {
        "id": "5ETWwe4pb8NU"
      },
      "execution_count": null,
      "outputs": []
    },
    {
      "cell_type": "code",
      "source": [
        "def conteo_Uso(df):\n",
        "\n",
        "    columnas_a_eliminar = [\"Medidor [W]\", \"Refrigerator\", \"Clothes washer\", \"Clothes Iron\", \"Computer\", \"Oven\", \"Play\", \"TV\", \"Sound system\"]\n",
        "\n",
        "    for column in ['Refrigerator', 'Clothes washer', 'Clothes Iron','Computer', 'Oven', 'Play', 'TV', 'Sound system']:\n",
        "        df[column + '_used'] = (df[column] > 5).astype(float)  # Si es mayor que 0.5, True; de lo contrario, False\n",
        "\n",
        "    # Eliminar las columnas del DataFrame original\n",
        "    df_dropped = df.drop(columns=columnas_a_eliminar)\n",
        "\n",
        "    # Crear un nuevo DataFrame con los cambios aplicados\n",
        "    df_filtered_use = pd.DataFrame(df_dropped)\n",
        "\n",
        "    return df_filtered_use\n",
        "\n"
      ],
      "metadata": {
        "id": "dnQznCDlRHqJ"
      },
      "execution_count": null,
      "outputs": []
    },
    {
      "cell_type": "code",
      "source": [
        "# Llama a la función para eliminar las columnas y obtener el nuevo DataFrame\n",
        "df_consumo = conteo_Uso(df)\n",
        "\n",
        "# Muestra el nuevo DataFrame\n",
        "df_consumo"
      ],
      "metadata": {
        "id": "-gGN5EPQT7R5"
      },
      "execution_count": null,
      "outputs": []
    },
    {
      "cell_type": "code",
      "source": [
        "df.describe()"
      ],
      "metadata": {
        "id": "m69lnaG-7AzB"
      },
      "execution_count": null,
      "outputs": []
    },
    {
      "cell_type": "code",
      "source": [
        "##Exportar\n",
        "df.to_csv(\"df_uso.csv\", index = False)"
      ],
      "metadata": {
        "id": "Y1_4BsRLAtfj"
      },
      "execution_count": null,
      "outputs": []
    },
    {
      "cell_type": "markdown",
      "source": [
        "### **Identificador de diferencia de Consumo Total y Sumatoria de las cargas desagregadas**"
      ],
      "metadata": {
        "id": "7MuriKXigWbg"
      }
    },
    {
      "cell_type": "code",
      "source": [
        "def des_Cargas(df):\n",
        "\n",
        "    columnas_a_eliminar = [\"Medidor [W]\", \"Refrigerator\", \"Clothes washer\", \"Clothes Iron\", \"Computer\", \"Oven\", \"Play\", \"TV\", \"Sound system\"]\n",
        "\n",
        "    for column in ['Refrigerator', 'Clothes washer', 'Clothes Iron','Computer', 'Oven', 'Play', 'TV', 'Sound system']:\n",
        "        (df[column] > 5).astype(float)  # Si es mayor que 5, True; de lo contrario, False\n",
        "\n",
        "    # Eliminar las columnas del DataFrame original\n",
        "    df_dropped = df.drop(columns=columnas_a_eliminar)\n",
        "\n",
        "    # Crear un nuevo DataFrame con los cambios aplicados\n",
        "    df_filtered_use = pd.DataFrame(df_dropped)\n",
        "\n",
        "    return df_filtered_use"
      ],
      "metadata": {
        "id": "smCik4k13nTj"
      },
      "execution_count": null,
      "outputs": []
    },
    {
      "cell_type": "code",
      "source": [
        "sum_cargas_des = df[['Refrigerator', 'Clothes washer', 'Clothes Iron','Computer', 'Oven', 'Play', 'TV', 'Sound system']].sum(axis=1)\n",
        "sum_cargas_des\n",
        "\n",
        "dif_cargas=df['Medidor [W]']-sum_cargas_des\n"
      ],
      "metadata": {
        "id": "A3fw1mtKe75a"
      },
      "execution_count": null,
      "outputs": []
    },
    {
      "cell_type": "code",
      "source": [
        "dif_cargas"
      ],
      "metadata": {
        "id": "BInxbMpGa-0B"
      },
      "execution_count": null,
      "outputs": []
    }
  ]
}